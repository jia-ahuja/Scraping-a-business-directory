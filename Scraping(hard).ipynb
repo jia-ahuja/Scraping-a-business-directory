{
  "nbformat": 4,
  "nbformat_minor": 0,
  "metadata": {
    "colab": {
      "provenance": []
    },
    "kernelspec": {
      "name": "python3",
      "display_name": "Python 3"
    },
    "language_info": {
      "name": "python"
    }
  },
  "cells": [
    {
      "cell_type": "markdown",
      "source": [
        "## Importing dependencies"
      ],
      "metadata": {
        "id": "1rk0oT4ULTmd"
      }
    },
    {
      "cell_type": "code",
      "execution_count": null,
      "metadata": {
        "id": "6hNcQGEWPASd"
      },
      "outputs": [],
      "source": [
        "import requests\n",
        "import pandas as pd\n",
        "from bs4 import BeautifulSoup\n",
        "import time\n",
        "from tqdm import tqdm\n",
        "import random\n",
        "import pprint"
      ]
    },
    {
      "cell_type": "markdown",
      "source": [
        "## Getting proxies"
      ],
      "metadata": {
        "id": "KVVqCxRlLQwo"
      }
    },
    {
      "cell_type": "code",
      "source": [
        "host = 'brd.superproxy.io'\n",
        "port = 22225\n",
        "\n",
        "username = '<username>'\n",
        "password = '<password>'\n",
        "\n",
        "proxy_url = f'http://{username}:{password}@{host}:{port}'\n",
        "\n",
        "proxies = {\n",
        "    'http': proxy_url,\n",
        "    'https': proxy_url\n",
        "}\n",
        "\n",
        "\n",
        "url = \"http://lumtest.com/myip.json\"\n",
        "response = requests.get(url, proxies=proxies)\n",
        "pprint.pprint(response.json())"
      ],
      "metadata": {
        "id": "rrU0llt5K07Z"
      },
      "execution_count": null,
      "outputs": []
    },
    {
      "cell_type": "markdown",
      "source": [
        "## Code to organize the scraped raw data"
      ],
      "metadata": {
        "id": "lNW5ycQSLX-H"
      }
    },
    {
      "cell_type": "code",
      "source": [
        "def organize(raw):\n",
        "  result = []\n",
        "  for element in raw:\n",
        "    a_tag = element.find_all('a')[0]\n",
        "    href = a_tag.get('href')\n",
        "    text = a_tag.get_text(strip=True)\n",
        "\n",
        "    loc = element.find(class_ = \"col-md-4\")\n",
        "    sales = element.find(class_ = \"col-md-2 last\").get_text().split('\\n')[-1].strip()\n",
        "\n",
        "    s = loc.get_text().split('\\n')\n",
        "    city, canton = s[5].strip().split(',')\n",
        "    country = s[7].strip()\n",
        "\n",
        "    result.append({'Company': text, 'a':href, 'city':city, 'canton':canton, 'country':country, 'sales':sales})\n",
        "\n",
        "  return result\n"
      ],
      "metadata": {
        "id": "HgOva1aXgDt0"
      },
      "execution_count": null,
      "outputs": []
    },
    {
      "cell_type": "markdown",
      "source": [
        "## Function for scraping the data from one page"
      ],
      "metadata": {
        "id": "3ZJyU6D5Ldun"
      }
    },
    {
      "cell_type": "code",
      "source": [
        "def get_details(page):\n",
        "\n",
        "  cookies = {\n",
        "      'site_preference': 'en-US',\n",
        "      'SSLB': '1',\n",
        "      'SSID': 'CQCSex0cAAAAAAD4urxmidfCGvi6vGYEAAAAAAAAAAAADZC9ZgB-5REwAQEVSiYADZC9ZgEAfSwBAYLyJQANkL1mAQA',\n",
        "      'SSSC': '644.G7402997462253885321.4|76925.2486914:77841.2509333',\n",
        "      'AKA_A2': 'A',\n",
        "      'bm_ss': 'ab8e18ef4e',\n",
        "      'SSRT': 'XpC9ZgADAA',\n",
        "      'SSOD': 'AH7CAAAAEgAjzDMAGQAAAPi6vGZskL1mBQAAAA',\n",
        "      'bm_s': 'YAAQxZUvF+4z3TWRAQAAHCx8VAGp/G9CA+j9WzljcT5wytTEetY8N3CGLnqUgPgnpmyIA6HUjJgjUxfl8QUVWhLk4oYlk83V654ngU201zQCzhj5lYsDz3omBuxugqvHeVG+jVzi0ufbpysIxtemlJ692VwnI6OJc7/iTOqOVb90uK9yE1it23htdAE2Q879qRQtxM78WGoYZEjN3MxacDaQQBr4UgpEH+iRmk9ZWoHj0baetIXkGUdvB23svoWH6ahkgI6IeL7lyLbrsX3t7oYp2YPpjcHmG0oe4252K/i2bmTCAzBQufMx58STdWkZXq3L5g9g6QCtM8lpo9McQp3JpaLSJZHK0HR2',\n",
        "      'HID': '1723699311325',\n",
        "      'cmapi_gtm_bl': 'ta-asp-bzi-sp-awct-cts-csm-img-flc-fls-mpm-mpr-m6d-tc-tdc',\n",
        "      'cmapi_cookie_privacy': 'permit_1|2_functional',\n",
        "      '_ga': 'GA1.1.2039139600.1723699311',\n",
        "      '_mkto_trk': 'id:080-UQJ-704&token:_mch-dnb.com-1723699311400-79918',\n",
        "      '_hjSessionUser_3331568': 'eyJpZCI6Ijk1YzRkYzExLTg2NmEtNTE1MS1hOGIxLTMwODYwODE0MmVkZiIsImNyZWF0ZWQiOjE3MjM2OTkzMTE0MTYsImV4aXN0aW5nIjpmYWxzZX0=',\n",
        "      '_hjSession_3331568': 'eyJpZCI6ImQ2MTllOTgwLWMwMjgtNDJmMy1iZWFiLTIxMGI3NzJkZDk3YSIsImMiOjE3MjM2OTkzMTE0MTYsInMiOjAsInIiOjAsInNiIjowLCJzciI6MCwic2UiOjAsImZzIjoxLCJzcCI6MH0=',\n",
        "      '_ga_K0F9RX4KM4': 'GS1.1.1723699311.1.0.1723699311.0.0.0',\n",
        "      'bm_sz': '20BADE75CD50A36751295106ADD2BD11~YAAQxZUvF/Yz3TWRAQAAfi98VBjT81vqLddsBT+ft6RMe4SOMigJFweqCHg0uYQI4nHE13U7KpfTQ6kYLCgas/4NDNuhQWed+2+PyW+3h6uk8MRg4glnWr7M/yopC4R/CPwfUvd/Cnf/wEShcNUJD0sXyy9rJCRkBgOEf+JpYt3K9fORzFcXRGnbmWhsgBmMDRVpXggAfeBfDzZRGb1MTgDaBt++ZB2RtD8MHPLb57nc5L4hVA44ZJOpj0PRz7wnLjasJIBQxTXoYkx1RyOpVRR+42eImV0UcZ9eKNF60a5Nq37epH7RsWpiwjOprhWMiISl+DZsrH3hk5I/SXQmThIG94/d2R8w4G8HrRK887fI8xLA~3224633~4473412',\n",
        "      '_abck': '51BBEABDB594DDE4EA8E0E7711A05C44~0~YAAQxZUvF/cz3TWRAQAAXjJ8VAzKi13dZIEqc5PrT3O13Q8M3OHh1CtAhJ35tTxSVcBNiVS1CQZmHsXvNUYalEvQI1xsTpwKnpgLzbFsFZvxtRJklG0z0wkGxkpWWbm7h+2sPxZIrJEU7WKtxVuU6c7MNLuF2ANOl/0m7rtDd6RUm3vQArTJatasFnAOz2VfxCmQHbnvkibT6X8FVfIvmvx3XRkcqBaoFW3Z0wA4+ul1oCpdQwnUGHMUktrYjejvkPCFt06bX5gQw905wQvqhGoSuziIzIGgv5HPu964zC+wKEYw5C9dqY4qBl3Ujod/xK3ceoKwA+akLLjLIqMUpidMJ1nPxVPkVkb/n3/WAawbAcbUkWep6C33Q0kg2WrG7mLpJyXwAOrXV6876EvqtFZxZ5N20lCSxB5IUrE+reIf/xBtzp3dHdmNW54YruBG+ojzOY3A1KBMbZlefim0J8jB~-1~||0||~-1',\n",
        "      'ak_bmsc': '633A747474E0D726DE4C21E9775FB3E7~000000000000000000000000000000~YAAQxZUvF/gz3TWRAQAA8TJ8VBjmpUaJ+KTX1arbHziCFiRIhJAIPG39UHDd0o3ZvFmsmaqpg8M0ObNGG3kJHJSQFKKt3kx9+903BUFIYPzg3e0ytS8wc89fbZAvWH5uugibwCV5N9qO/eOFQfeqvpycHXJhSzMzWErfhdf/BL6hb8Kq+jU4gjhUJtqgf1WH/e0r+sShu1v1anaQoFfE/wDbZhi3pV6cBMd9seOKdMr+6+RMBHPs0SS/3gTLxJyXI2/VHgWVrwr6uHe9dDn3qdlEFrgn9oUwiYLvANs+nAwvopGKWwOtJTUBbsgnpgJIsffDCcmk3h4u+qBKRlKXuuRDbN5nBLsmqWRMs+JHLlU9t5UkpVJ5tG5KNaFMX4oKIMtjBBb87w==',\n",
        "  }\n",
        "\n",
        "  user_agents = [\n",
        "    'Mozilla/5.0 (Windows NT 10.0; Win64; x64) AppleWebKit/537.36 (KHTML, like Gecko) Chrome/91.0.4472.124 Safari/537.36 Edg/127.0.0.0',\n",
        "    'Mozilla/5.0 (Macintosh; Intel Mac OS X 10_15_7) AppleWebKit/605.1.15 (KHTML, like Gecko) Version/14.1.1 Safari/605.1.15',\n",
        "    'Mozilla/5.0 (Windows NT 10.0; Win64; x64; rv:89.0) Gecko/20100101 Firefox/89.0'\n",
        "    ]\n",
        "\n",
        "  accept_languages = [\n",
        "    'en-US,en;q=0.9',\n",
        "    'en-GB,en;q=0.8',\n",
        "    'fr-FR,fr;q=0.9,en-US;q=0.8,en;q=0.7',\n",
        "    'de-DE,de;q=0.9,en-US;q=0.8,en;q=0.7',\n",
        "    'es-ES,es;q=0.9,en-US;q=0.8,en;q=0.7',\n",
        "    'zh-CN,zh;q=0.9,en-US;q=0.8,en;q=0.7',\n",
        "    'ja-JP,ja;q=0.9,en-US;q=0.8,en;q=0.7'\n",
        "    ]\n",
        "\n",
        "  x = random.randint(11,30)\n",
        "\n",
        "  accepts = [\n",
        "    'text/html,application/xhtml+xml,application/xml;q=0.9,image/webp,*/*;q=0.8',\n",
        "    'text/html,application/xhtml+xml,application/xml;q=0.9,image/avif,image/webp,image/apng,*/*;q=0.8,application/signed-exchange;v=b3;q=0.9',\n",
        "    'text/html,application/xhtml+xml,application/xml;q=0.9,*/*;q=0.8',\n",
        "    'text/html,application/xhtml+xml,application/xml;q=0.9,image/avif,image/webp,image/apng,*/*;q=0.8,application/signed-exchange;v=b3;q=0.7'\n",
        "    ]\n",
        "\n",
        "  headers = {\n",
        "      'accept': random.choice(accepts),\n",
        "      'accept-language': random.choice(accept_languages),\n",
        "      'DNT': '1',\n",
        "      'Connection': 'keep-alive',\n",
        "      'Cache-control': 'max-age=0',\n",
        "      'priority': 'u=0, i',\n",
        "      'referer': f'https://www.dnb.com/business-directory/company-information.manufacturing.ch.html?page={x}',\n",
        "      #'sec-ch-ua': '\"Not)A;Brand\";v=\"99\", \"Microsoft Edge\";v=\"127\", \"Chromium\";v=\"127\"',\n",
        "      'Sec-Fetch-Dest': 'document',\n",
        "      'Sec-Fetch-Mode': 'navigate',\n",
        "      'Sec-Fetch-Site': 'none',\n",
        "      'Sec-Fetch-User': '?1',\n",
        "      'Sec-Ch-Ua': '\" Not A;Brand\";v=\"99\", \"Chromium\";v=\"96\", \"Google Chrome\";v=\"96\"',\n",
        "      'Sec-Ch-Ua-Mobile': '?0',\n",
        "      'Sec-Ch-Ua-Platform': '\"Windows\"',\n",
        "      'Upgrade-insecure-requests': '1',\n",
        "      'User-agent': random.choice(user_agents),\n",
        "  }\n",
        "\n",
        "  params = {\n",
        "      'page': f'{page}',\n",
        "  }\n",
        "\n",
        "  response = requests.get(\n",
        "      'https://www.dnb.com/business-directory/company-information.manufacturing.ch.html',\n",
        "      params=params,\n",
        "      cookies=cookies,\n",
        "      headers=headers,\n",
        "      proxies=proxies\n",
        "  )\n",
        "\n",
        "  soup = BeautifulSoup(response.text, 'html.parser')\n",
        "  raw = soup.find_all(class_=\"col-md-12 data\")\n",
        "\n",
        "  return organize(raw)"
      ],
      "metadata": {
        "id": "60oiwgx8SPqV"
      },
      "execution_count": null,
      "outputs": []
    },
    {
      "cell_type": "markdown",
      "source": [
        "## Main code that assembles everything together.\n"
      ],
      "metadata": {
        "id": "7c0Edxg5Lku-"
      }
    },
    {
      "cell_type": "code",
      "source": [
        "data = pd.DataFrame()\n",
        "for page in tqdm(range(16, 21)):\n",
        "  new = get_details(page)\n",
        "  new = pd.DataFrame(new)\n",
        "  data = pd.concat([data, new], ignore_index = True)\n",
        "  time.sleep(random.randint(1,10))"
      ],
      "metadata": {
        "id": "JfVjAsZ2WtUu"
      },
      "execution_count": null,
      "outputs": []
    }
  ]
}